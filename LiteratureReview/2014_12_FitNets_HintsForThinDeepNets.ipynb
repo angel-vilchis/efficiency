{
 "cells": [
  {
   "cell_type": "markdown",
   "id": "289f24b6-3f5b-48c1-a6fb-5ddf1840999f",
   "metadata": {},
   "source": [
    "# [FitNets: Hints for Deep Nets](https://arxiv.org/pdf/1412.6550)"
   ]
  },
  {
   "cell_type": "markdown",
   "id": "57eb586a-61b2-4a56-bde4-a5057f3e5671",
   "metadata": {},
   "source": [
    "## Intro"
   ]
  },
  {
   "cell_type": "markdown",
   "id": "53382d00-677d-48cd-b154-be0e864234e3",
   "metadata": {},
   "source": [
    "* Depth is desired since it encourages reuse of features and generalizes better, thinness is desired for efficiency <br><br>\n",
    "* Intermediate-level hints extends knowledge distillation (KD) to intermediate layers rather than just the final outputs\n",
    "    * These hints remedy the difficulty of optimizing deep networks, which is present even when using KD"
   ]
  },
  {
   "cell_type": "code",
   "execution_count": null,
   "id": "312d09e2-5cce-4b77-b6da-b6261ef3a472",
   "metadata": {},
   "outputs": [],
   "source": []
  }
 ],
 "metadata": {
  "kernelspec": {
   "display_name": "Python 3 (ipykernel)",
   "language": "python",
   "name": "python3"
  },
  "language_info": {
   "codemirror_mode": {
    "name": "ipython",
    "version": 3
   },
   "file_extension": ".py",
   "mimetype": "text/x-python",
   "name": "python",
   "nbconvert_exporter": "python",
   "pygments_lexer": "ipython3",
   "version": "3.12.3"
  }
 },
 "nbformat": 4,
 "nbformat_minor": 5
}
