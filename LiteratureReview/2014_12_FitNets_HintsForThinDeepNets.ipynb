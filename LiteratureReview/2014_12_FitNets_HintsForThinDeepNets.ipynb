{
 "cells": [
  {
   "cell_type": "markdown",
   "id": "289f24b6-3f5b-48c1-a6fb-5ddf1840999f",
   "metadata": {},
   "source": [
    "# [FitNets: Hints for Deep Nets](https://arxiv.org/pdf/1412.6550)"
   ]
  },
  {
   "cell_type": "code",
   "execution_count": null,
   "id": "bc480c43-91a5-4f7b-a704-908cee630e5b",
   "metadata": {},
   "outputs": [],
   "source": []
  }
 ],
 "metadata": {
  "kernelspec": {
   "display_name": "Python 3 (ipykernel)",
   "language": "python",
   "name": "python3"
  },
  "language_info": {
   "codemirror_mode": {
    "name": "ipython",
    "version": 3
   },
   "file_extension": ".py",
   "mimetype": "text/x-python",
   "name": "python",
   "nbconvert_exporter": "python",
   "pygments_lexer": "ipython3",
   "version": "3.12.3"
  }
 },
 "nbformat": 4,
 "nbformat_minor": 5
}
