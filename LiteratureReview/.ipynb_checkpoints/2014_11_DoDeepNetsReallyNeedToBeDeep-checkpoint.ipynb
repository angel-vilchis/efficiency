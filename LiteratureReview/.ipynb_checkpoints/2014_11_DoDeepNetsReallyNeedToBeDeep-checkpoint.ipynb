{
 "cells": [
  {
   "cell_type": "markdown",
   "id": "8e999338-cb52-4e74-a778-5e230a60e89e",
   "metadata": {},
   "source": [
    "# [Do Deep Nets Really Need to be Deep?](https://arxiv.org/pdf/1312.6184)"
   ]
  },
  {
   "cell_type": "markdown",
   "id": "20b5dc40-3866-4dc6-a69f-ea7c15504451",
   "metadata": {},
   "source": [
    "* Since it has been shown we can mimic function learned by complex model with a small net, the function learned by complex model wasn't truly too complex to be learned by small net"
   ]
  },
  {
   "cell_type": "code",
   "execution_count": null,
   "id": "a9fe5b33-68f2-475a-b4a6-dcc7b1b0e6d4",
   "metadata": {},
   "outputs": [],
   "source": []
  }
 ],
 "metadata": {
  "kernelspec": {
   "display_name": "Python 3 (ipykernel)",
   "language": "python",
   "name": "python3"
  },
  "language_info": {
   "codemirror_mode": {
    "name": "ipython",
    "version": 3
   },
   "file_extension": ".py",
   "mimetype": "text/x-python",
   "name": "python",
   "nbconvert_exporter": "python",
   "pygments_lexer": "ipython3",
   "version": "3.12.3"
  }
 },
 "nbformat": 4,
 "nbformat_minor": 5
}
