{
 "cells": [
  {
   "cell_type": "markdown",
   "id": "cc8f33f8-fd62-4a69-8309-12fcf3d0f103",
   "metadata": {},
   "source": [
    "# [Model Compression](https://www.cs.cornell.edu/~caruana/compression.kdd06.pdf)"
   ]
  },
  {
   "cell_type": "markdown",
   "id": "04eadac2-b37a-4c4b-bb22-729c22d692a3",
   "metadata": {},
   "source": [
    "## Intro"
   ]
  },
  {
   "cell_type": "markdown",
   "id": "de98cd9b-7e62-4cc9-ab42-b44bf1baba8f",
   "metadata": {},
   "source": [
    "* Large model provides a function from inputs and outputs which can be used to label vasts amount of data which can then be used to train a smaller, faster model"
   ]
  }
 ],
 "metadata": {
  "kernelspec": {
   "display_name": "Python 3 (ipykernel)",
   "language": "python",
   "name": "python3"
  },
  "language_info": {
   "codemirror_mode": {
    "name": "ipython",
    "version": 3
   },
   "file_extension": ".py",
   "mimetype": "text/x-python",
   "name": "python",
   "nbconvert_exporter": "python",
   "pygments_lexer": "ipython3",
   "version": "3.12.3"
  }
 },
 "nbformat": 4,
 "nbformat_minor": 5
}
