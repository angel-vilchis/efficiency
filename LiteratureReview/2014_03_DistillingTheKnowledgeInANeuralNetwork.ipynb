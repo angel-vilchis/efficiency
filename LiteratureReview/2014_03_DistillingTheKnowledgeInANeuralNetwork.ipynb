{
 "cells": [
  {
   "cell_type": "markdown",
   "id": "d296988f-24aa-4442-8562-b1df60bed3d0",
   "metadata": {},
   "source": [
    "# [Distilling the Knowledge in a Neural Network](https://arxiv.org/pdf/1503.02531)"
   ]
  },
  {
   "cell_type": "markdown",
   "id": "31ab7424-5a1a-41cf-8379-587cf547bb89",
   "metadata": {},
   "source": [
    "## Intro"
   ]
  },
  {
   "cell_type": "markdown",
   "id": "e9d2fdaa-351f-403d-ac9b-5e31a1922be7",
   "metadata": {},
   "source": [
    "* Training stage and deployment stage have different requirements so should use different models\n",
    "    * Training stage model should be good at extracting structure from data\n",
    "    * Deployed model should be efficient and computionally affordable. <br><br>\n",
    "* If a complex model generalizes well then a small model trained to generalize in the same way as the complex model will usually do better on test data than training the small model directly on the same data that was used to train the complex model\n",
    "  * E.g. even the incorrect classes' probabilities in multi-class classification provide knowledge; such as which classes are relatively more similar <br><br>\n",
    "* Logits in small model can be trained to match the logits in the complex model using MSE.\n",
    "    * Another route is to raise temperature (entropy) of complex model's softmax and use same temperature for small model's softmax while training to match the complex model's probabilities.\n",
    "    * Reason for not training using probabilities with no temperature is that probabilities of incorrect answers are often too close to zero. <br><br>\n",
    "* The small model can be trained entirely on unlabeled data or original training set.\n",
    "    * If training on original training set, can use cost function that balances the hard target of data and soft targets of the complex model.\n",
    "    * Soft targets derived from training on full training set allow a student model to generalize well from only 3% of training set or even missing class targets (as long as we correct the bias term for the class)"
   ]
  },
  {
   "cell_type": "markdown",
   "id": "2833466f-0e36-4079-9401-7149a493b954",
   "metadata": {},
   "source": [
    "## Temperature"
   ]
  },
  {
   "cell_type": "markdown",
   "id": "da0e26db-c624-4b81-a7cd-6a4f316ffc57",
   "metadata": {},
   "source": [
    "* Temperature is a parameter that decides how soft the distribution will be. Raising the temperature raises the entropy (softness).\n",
    "* Softmax by default uses temperature $T=1$.\n",
    "\\begin{align}\n",
    "q_i = \\frac{exp(z_i / T)}{\\sum_j{exp(z_j / T)}}\n",
    "\\end{align}"
   ]
  },
  {
   "cell_type": "code",
   "execution_count": 1,
   "id": "43d9a1f8-49f4-41f9-907d-dda41c712097",
   "metadata": {},
   "outputs": [],
   "source": [
    "import torch\n",
    "\n",
    "def softmax_with_temperature(logits, temperature): \n",
    "    num = torch.exp(logits / temperature)\n",
    "    den = torch.exp(logits / temperature).sum()\n",
    "    return num / den"
   ]
  },
  {
   "cell_type": "code",
   "execution_count": 2,
   "id": "06b0b3b1-012d-4de4-8d53-54c7fd3dfb11",
   "metadata": {},
   "outputs": [
    {
     "data": {
      "text/plain": [
       "tensor([9.9897e-01, 1.2328e-04, 9.1094e-04, 3.0559e-07])"
      ]
     },
     "execution_count": 2,
     "metadata": {},
     "output_type": "execute_result"
    }
   ],
   "source": [
    "x = torch.tensor([10.0, 1.0, 3.0, -5.0])\n",
    "torch.nn.functional.softmax(x, dim=-1) # Default softmax"
   ]
  },
  {
   "cell_type": "code",
   "execution_count": 3,
   "id": "85b6b2be-e3eb-4c61-bb0e-36e27c95ca85",
   "metadata": {},
   "outputs": [
    {
     "data": {
      "text/plain": [
       "tensor([9.9897e-01, 1.2328e-04, 9.1094e-04, 3.0559e-07])"
      ]
     },
     "execution_count": 3,
     "metadata": {},
     "output_type": "execute_result"
    }
   ],
   "source": [
    "softmax_with_temperature(x, 1) # Temperature=1 -> Default softmax"
   ]
  },
  {
   "cell_type": "code",
   "execution_count": 4,
   "id": "7780dddb-2f97-452e-9b2f-398135f3ae50",
   "metadata": {},
   "outputs": [
    {
     "data": {
      "text/plain": [
       "tensor([0.2500, 0.2500, 0.2500, 0.2500])"
      ]
     },
     "execution_count": 4,
     "metadata": {},
     "output_type": "execute_result"
    }
   ],
   "source": [
    "softmax_with_temperature(x, 1e10) # Extremely high temperature -> Max entropy (uniform distribution)"
   ]
  },
  {
   "cell_type": "code",
   "execution_count": 5,
   "id": "7a26ca4c-3002-4c8e-8c6c-83f7475923d4",
   "metadata": {},
   "outputs": [
    {
     "data": {
      "image/png": "[encoded data removed]",
      "text/plain": [
       "<Figure size 1000x600 with 1 Axes>"
      ]
     },
     "metadata": {},
     "output_type": "display_data"
    }
   ],
   "source": [
    "# Plot showing temperature's affect on distribution\n",
    "import matplotlib.pyplot as plt \n",
    "import numpy as np\n",
    "\n",
    "Ts = torch.arange(1, 30, 0.5)\n",
    "dists = torch.zeros(len(Ts), len(x))\n",
    "for i, T in enumerate(Ts):\n",
    "    dists[i] = softmax_with_temperature(x, T)\n",
    "\n",
    "plt.figure(figsize=(10, 6))\n",
    "for i in range(len(x)):\n",
    "    if i == 0:\n",
    "        plt.bar(Ts, dists[:,i], label=f\"class_{i}\")\n",
    "    else:\n",
    "        plt.bar(Ts, dists[:,i], label=f\"class_{i}\", bottom=dists[:, :i].sum(axis=1))\n",
    "\n",
    "plt.xlabel('Temperature')\n",
    "plt.ylabel('Distribution')\n",
    "plt.legend()\n",
    "plt.xticks(rotation=45)\n",
    "plt.show()"
   ]
  },
  {
   "cell_type": "markdown",
   "id": "1836ab59-787a-4701-86e7-a6b9ace58008",
   "metadata": {},
   "source": [
    "\\begin{align}\n",
    "\\frac{\\partial{}q_i}{\\partial{}z_i} = \\frac{q_i(1-q_i)}{T}\n",
    "\\end{align}\n",
    "\\begin{align}\n",
    "\\frac{\\partial{}q_i}{\\partial{}z_k} = \\frac{-q_iq_k}{T}\n",
    "\\end{align}"
   ]
  },
  {
   "cell_type": "markdown",
   "id": "4d2d3b13-f7c8-4afe-a1e1-c0ad6ef8be2c",
   "metadata": {},
   "source": [
    "## Training"
   ]
  },
  {
   "cell_type": "code",
   "execution_count": 43,
   "id": "f144ba96-5f24-4dee-b4bf-3300150ba195",
   "metadata": {},
   "outputs": [],
   "source": [
    "from torch import nn\n",
    "import torch.nn.functional as F\n",
    "\n",
    "# Large (complex) model with dropout\n",
    "class LargeNet(nn.Module):\n",
    "    def __init__(self, input_size=(28,28), output_size=10, num_neurons=1200, p=0.5):\n",
    "        super(LargeNet, self).__init__()\n",
    "        self.p = p\n",
    "        input_size = np.prod(input_size)\n",
    "        self.fc1 = nn.Linear(input_size, num_neurons)\n",
    "        self.fc2 = nn.Linear(num_neurons, num_neurons)\n",
    "        self.out = nn.Linear(num_neurons, output_size)\n",
    "\n",
    "    def forward(self, x):\n",
    "        fc1 = F.relu(self.fc1(x))\n",
    "        fc1 = F.dropout(fc1, p=self.p)\n",
    "        fc2 = F.relu(self.fc2(fc1))\n",
    "        fc2 = F.dropout(fc2, p=self.p)\n",
    "        logits = self.out(fc2)\n",
    "        return logits\n",
    "\n",
    "# Small (distilled) model without dropout\n",
    "class SmallNet(nn.Module):\n",
    "    def __init__(self, input_size=(28,28), output_size=10, num_neurons=800):\n",
    "        super(SmallNet, self).__init__()\n",
    "        input_size = np.prod(input_size)\n",
    "        self.fc1 = nn.Linear(input_size, num_neurons)\n",
    "        self.fc2 = nn.Linear(num_neurons, num_neurons)\n",
    "        self.out = nn.Linear(num_neurons, output_size)\n",
    "\n",
    "    def forward(self, x):\n",
    "        fc1 = F.relu(self.fc1(x))\n",
    "        fc2 = F.relu(self.fc2(fc1))\n",
    "        logits = self.out(fc2)\n",
    "        return logits"
   ]
  },
  {
   "cell_type": "code",
   "execution_count": 59,
   "id": "ade8359d-66ad-4f48-b177-7fac268a651e",
   "metadata": {},
   "outputs": [
    {
     "data": {
      "text/plain": [
       "Dataset MNIST\n",
       "    Number of datapoints: 60000\n",
       "    Root location: data\n",
       "    Split: Train\n",
       "    StandardTransform\n",
       "Transform: Compose(\n",
       "               ToTensor()\n",
       "               RandomAffine(degrees=[0.0, 0.0], translate=(0.07142857142857142, 0.07142857142857142))\n",
       "           )"
      ]
     },
     "execution_count": 59,
     "metadata": {},
     "output_type": "execute_result"
    }
   ],
   "source": [
    "# Data\n",
    "from torchvision import datasets, transforms\n",
    "\n",
    "# Jitter\n",
    "jitter_range = 2\n",
    "image_size = 28\n",
    "transform = transforms.Compose([\n",
    "    transforms.ToTensor(),\n",
    "    transforms.RandomAffine(degrees=0, translate=(2/28, 2/28)),\n",
    "])\n",
    "\n",
    "# Loading MNIST data\n",
    "train_data = datasets.MNIST(root='data', train=True, download=True, transform=transform)\n",
    "test_data = datasets.MNIST(root='data', train=False, download=True, transform=transform)\n",
    "\n",
    "# Create data loaders\n",
    "BATCH_SIZE = 1024\n",
    "train_loader = torch.utils.data.DataLoader(train_data, batch_size=BATCH_SIZE, shuffle=True)\n",
    "test_loader = torch.utils.data.DataLoader(test_data, batch_size=BATCH_SIZE, shuffle=False)\n",
    "\n",
    "train_data"
   ]
  },
  {
   "cell_type": "code",
   "execution_count": null,
   "id": "7774f112-a69e-4691-9ccc-119b1bb8e705",
   "metadata": {},
   "outputs": [],
   "source": [
    "from tqdm.notebook import tqdm\n",
    "\n",
    "def train_model(model, optimizer, num_epochs=10):\n",
    "    model = model.to(device)\n",
    "    for epoch in range(num_epochs):\n",
    "        model.train()  # Set the model to training mode\n",
    "        running_loss = 0.0\n",
    "    \n",
    "        progress_bar = tqdm(total=len(train_loader))\n",
    "    \n",
    "        for inputs, labels in train_loader:\n",
    "            inputs, labels = inputs.view(inputs.shape[0], -1).to(device), labels.to(device)\n",
    "            optimizer.zero_grad()  # Zero the gradients\n",
    "            \n",
    "            outputs = model(inputs)  # Forward pass\n",
    "            loss = criterion(outputs, labels)  # Compute the loss\n",
    "            loss.backward()  # Backward pass\n",
    "            optimizer.step()  # Update the weights\n",
    "            \n",
    "            running_loss += loss.item() * inputs.size(0)\n",
    "            \n",
    "            progress_bar.update(1)\n",
    "            progress_bar.set_description(f\"Loss: {loss.item():.4f}\")\n",
    "        all_preds, all_labels = test_model(model)\n",
    "        num_instances = len(all_preds)\n",
    "        correct = (all_preds == all_labels).sum()\n",
    "        accuracy =  correct / num_instances\n",
    "        errors = num_instances - correct\n",
    "        epoch_loss = running_loss / len(train_loader.dataset)\n",
    "        print(f\"Epoch {epoch+1}/{num_epochs}, Loss: {epoch_loss:.4f}, Accuracy: {accuracy}, Errors: {errors}\")\n",
    "\n",
    "def test_model(model):\n",
    "    model.eval()\n",
    "    progress_bar = tqdm(total=len(test_loader))\n",
    "    \n",
    "    all_preds, all_labels = [], []\n",
    "    for inputs, labels in test_loader:\n",
    "        inputs, labels = inputs.view(inputs.shape[0], -1).to(device), labels.to(device)\n",
    "        \n",
    "        outputs = model(inputs)  # Forward pass\n",
    "        preds = outputs.argmax(axis=-1)\n",
    "        all_preds += preds\n",
    "        all_labels += labels\n",
    "        progress_bar.update(1)\n",
    "    all_preds, all_labels = torch.tensor(all_preds), torch.tensor(all_labels)\n",
    "    return all_preds, all_labels"
   ]
  },
  {
   "cell_type": "code",
   "execution_count": 61,
   "id": "a9b04238-b512-49ff-b827-930f19c68511",
   "metadata": {},
   "outputs": [
    {
     "data": {
      "text/plain": [
       "'cuda'"
      ]
     },
     "execution_count": 61,
     "metadata": {},
     "output_type": "execute_result"
    }
   ],
   "source": [
    "from torch import optim\n",
    "LR = 1e-3\n",
    "large_model = LargeNet()\n",
    "optimizer = optim.Adam(large_model.parameters(), lr=LR)\n",
    "criterion = nn.CrossEntropyLoss()\n",
    "device = \"cuda\" if torch.cuda.is_available() else \"cpu\"\n",
    "device"
   ]
  },
  {
   "cell_type": "code",
   "execution_count": 68,
   "id": "4bee6313-5c3a-48df-b8bc-a2c610eeba69",
   "metadata": {},
   "outputs": [],
   "source": [
    "LR = 1e-5\n",
    "optimizer = optim.Adam(large_model.parameters(), lr=LR)"
   ]
  },
  {
   "cell_type": "code",
   "execution_count": 69,
   "id": "55915675-8c98-4980-b56b-268f367a0fe3",
   "metadata": {},
   "outputs": [
    {
     "data": {
      "application/vnd.jupyter.widget-view+json": {
       "model_id": "55227bdf0dca4f85aad00d174ca75e11",
       "version_major": 2,
       "version_minor": 0
      },
      "text/plain": [
       "  0%|          | 0/59 [00:00<?, ?it/s]"
      ]
     },
     "metadata": {},
     "output_type": "display_data"
    },
    {
     "data": {
      "application/vnd.jupyter.widget-view+json": {
       "model_id": "104c96e88c794f01a5678f4724ceb137",
       "version_major": 2,
       "version_minor": 0
      },
      "text/plain": [
       "  0%|          | 0/10 [00:00<?, ?it/s]"
      ]
     },
     "metadata": {},
     "output_type": "display_data"
    },
    {
     "name": "stdout",
     "output_type": "stream",
     "text": [
      "Epoch 1/10, Loss: 0.0584, Accuracy: 0.9796000123023987, Errors: 204\n"
     ]
    },
    {
     "data": {
      "application/vnd.jupyter.widget-view+json": {
       "model_id": "9341f6fd515e4037a6baee75cb7507c0",
       "version_major": 2,
       "version_minor": 0
      },
      "text/plain": [
       "  0%|          | 0/59 [00:00<?, ?it/s]"
      ]
     },
     "metadata": {},
     "output_type": "display_data"
    },
    {
     "data": {
      "application/vnd.jupyter.widget-view+json": {
       "model_id": "643a029025c34914ad0f6e00b6c1eac3",
       "version_major": 2,
       "version_minor": 0
      },
      "text/plain": [
       "  0%|          | 0/10 [00:00<?, ?it/s]"
      ]
     },
     "metadata": {},
     "output_type": "display_data"
    },
    {
     "name": "stdout",
     "output_type": "stream",
     "text": [
      "Epoch 2/10, Loss: 0.0601, Accuracy: 0.9772999882698059, Errors: 227\n"
     ]
    },
    {
     "data": {
      "application/vnd.jupyter.widget-view+json": {
       "model_id": "2b629b053c174205a5cb2cf111f742a1",
       "version_major": 2,
       "version_minor": 0
      },
      "text/plain": [
       "  0%|          | 0/59 [00:00<?, ?it/s]"
      ]
     },
     "metadata": {},
     "output_type": "display_data"
    },
    {
     "data": {
      "application/vnd.jupyter.widget-view+json": {
       "model_id": "7e39ef2bc1624b5eb8bdd35f98ced0bf",
       "version_major": 2,
       "version_minor": 0
      },
      "text/plain": [
       "  0%|          | 0/10 [00:00<?, ?it/s]"
      ]
     },
     "metadata": {},
     "output_type": "display_data"
    },
    {
     "name": "stdout",
     "output_type": "stream",
     "text": [
      "Epoch 3/10, Loss: 0.0610, Accuracy: 0.9776999950408936, Errors: 223\n"
     ]
    },
    {
     "data": {
      "application/vnd.jupyter.widget-view+json": {
       "model_id": "69d0908bb037498dbaf483522ea159fe",
       "version_major": 2,
       "version_minor": 0
      },
      "text/plain": [
       "  0%|          | 0/59 [00:00<?, ?it/s]"
      ]
     },
     "metadata": {},
     "output_type": "display_data"
    },
    {
     "data": {
      "application/vnd.jupyter.widget-view+json": {
       "model_id": "adcae44b818342bc86004b0671eafebb",
       "version_major": 2,
       "version_minor": 0
      },
      "text/plain": [
       "  0%|          | 0/10 [00:00<?, ?it/s]"
      ]
     },
     "metadata": {},
     "output_type": "display_data"
    },
    {
     "name": "stdout",
     "output_type": "stream",
     "text": [
      "Epoch 4/10, Loss: 0.0592, Accuracy: 0.9786999821662903, Errors: 213\n"
     ]
    },
    {
     "data": {
      "application/vnd.jupyter.widget-view+json": {
       "model_id": "af6fe33a7a334db3ab10e4fe30cb1ef8",
       "version_major": 2,
       "version_minor": 0
      },
      "text/plain": [
       "  0%|          | 0/59 [00:00<?, ?it/s]"
      ]
     },
     "metadata": {},
     "output_type": "display_data"
    },
    {
     "data": {
      "application/vnd.jupyter.widget-view+json": {
       "model_id": "e7e8f56c6f3b47a09587a91cd073020c",
       "version_major": 2,
       "version_minor": 0
      },
      "text/plain": [
       "  0%|          | 0/10 [00:00<?, ?it/s]"
      ]
     },
     "metadata": {},
     "output_type": "display_data"
    },
    {
     "name": "stdout",
     "output_type": "stream",
     "text": [
      "Epoch 5/10, Loss: 0.0570, Accuracy: 0.9805999994277954, Errors: 194\n"
     ]
    },
    {
     "data": {
      "application/vnd.jupyter.widget-view+json": {
       "model_id": "a0757b3656f54977801b8e82d9660e87",
       "version_major": 2,
       "version_minor": 0
      },
      "text/plain": [
       "  0%|          | 0/59 [00:00<?, ?it/s]"
      ]
     },
     "metadata": {},
     "output_type": "display_data"
    },
    {
     "data": {
      "application/vnd.jupyter.widget-view+json": {
       "model_id": "e928a22b4f8949cea2ffa0265f140e9e",
       "version_major": 2,
       "version_minor": 0
      },
      "text/plain": [
       "  0%|          | 0/10 [00:00<?, ?it/s]"
      ]
     },
     "metadata": {},
     "output_type": "display_data"
    },
    {
     "name": "stdout",
     "output_type": "stream",
     "text": [
      "Epoch 6/10, Loss: 0.0593, Accuracy: 0.9800999760627747, Errors: 199\n"
     ]
    },
    {
     "data": {
      "application/vnd.jupyter.widget-view+json": {
       "model_id": "904b7286ff8841f5924784faa378167f",
       "version_major": 2,
       "version_minor": 0
      },
      "text/plain": [
       "  0%|          | 0/59 [00:00<?, ?it/s]"
      ]
     },
     "metadata": {},
     "output_type": "display_data"
    },
    {
     "data": {
      "application/vnd.jupyter.widget-view+json": {
       "model_id": "18757a42d0cb46a68aed77e9181ca4fe",
       "version_major": 2,
       "version_minor": 0
      },
      "text/plain": [
       "  0%|          | 0/10 [00:00<?, ?it/s]"
      ]
     },
     "metadata": {},
     "output_type": "display_data"
    },
    {
     "name": "stdout",
     "output_type": "stream",
     "text": [
      "Epoch 7/10, Loss: 0.0593, Accuracy: 0.9790999889373779, Errors: 209\n"
     ]
    },
    {
     "data": {
      "application/vnd.jupyter.widget-view+json": {
       "model_id": "aca3d02b9f9d40dda920319a23e093b0",
       "version_major": 2,
       "version_minor": 0
      },
      "text/plain": [
       "  0%|          | 0/59 [00:00<?, ?it/s]"
      ]
     },
     "metadata": {},
     "output_type": "display_data"
    },
    {
     "data": {
      "application/vnd.jupyter.widget-view+json": {
       "model_id": "a42b5fca646348b284e299dc173f6a7e",
       "version_major": 2,
       "version_minor": 0
      },
      "text/plain": [
       "  0%|          | 0/10 [00:00<?, ?it/s]"
      ]
     },
     "metadata": {},
     "output_type": "display_data"
    },
    {
     "name": "stdout",
     "output_type": "stream",
     "text": [
      "Epoch 8/10, Loss: 0.0592, Accuracy: 0.9807999730110168, Errors: 192\n"
     ]
    },
    {
     "data": {
      "application/vnd.jupyter.widget-view+json": {
       "model_id": "8323059fe2f7435399833d3c474296a1",
       "version_major": 2,
       "version_minor": 0
      },
      "text/plain": [
       "  0%|          | 0/59 [00:00<?, ?it/s]"
      ]
     },
     "metadata": {},
     "output_type": "display_data"
    },
    {
     "data": {
      "application/vnd.jupyter.widget-view+json": {
       "model_id": "418e615fc03e42fca0ade7f7a510365a",
       "version_major": 2,
       "version_minor": 0
      },
      "text/plain": [
       "  0%|          | 0/10 [00:00<?, ?it/s]"
      ]
     },
     "metadata": {},
     "output_type": "display_data"
    },
    {
     "name": "stdout",
     "output_type": "stream",
     "text": [
      "Epoch 9/10, Loss: 0.0596, Accuracy: 0.9793999791145325, Errors: 206\n"
     ]
    },
    {
     "data": {
      "application/vnd.jupyter.widget-view+json": {
       "model_id": "14ffa7ccc85d436a8f64b1ca7a2d402c",
       "version_major": 2,
       "version_minor": 0
      },
      "text/plain": [
       "  0%|          | 0/59 [00:00<?, ?it/s]"
      ]
     },
     "metadata": {},
     "output_type": "display_data"
    },
    {
     "data": {
      "application/vnd.jupyter.widget-view+json": {
       "model_id": "1bebeaa5c6ca48628e53943fa45d324a",
       "version_major": 2,
       "version_minor": 0
      },
      "text/plain": [
       "  0%|          | 0/10 [00:00<?, ?it/s]"
      ]
     },
     "metadata": {},
     "output_type": "display_data"
    },
    {
     "name": "stdout",
     "output_type": "stream",
     "text": [
      "Epoch 10/10, Loss: 0.0573, Accuracy: 0.979200005531311, Errors: 208\n"
     ]
    }
   ],
   "source": [
    "train_model(large_model, optimizer)"
   ]
  },
  {
   "cell_type": "code",
   "execution_count": 46,
   "id": "f9cb2811-869c-4d1c-bd7c-4defccffae5a",
   "metadata": {},
   "outputs": [
    {
     "data": {
      "application/vnd.jupyter.widget-view+json": {
       "model_id": "0eae7dc888d249e896cb451c8e8a2a9b",
       "version_major": 2,
       "version_minor": 0
      },
      "text/plain": [
       "  0%|          | 0/40 [00:00<?, ?it/s]"
      ]
     },
     "metadata": {},
     "output_type": "display_data"
    }
   ],
   "source": [
    "large_preds, large_labels = test_model(large_model)"
   ]
  },
  {
   "cell_type": "code",
   "execution_count": 31,
   "id": "dfbaa314-7fed-4885-93f3-beb61b9cf0fe",
   "metadata": {},
   "outputs": [],
   "source": [
    "LR = 1e-3\n",
    "small_model = SmallNet()\n",
    "optimizer = optim.Adam(small_model.parameters(), lr=LR)\n",
    "criterion = nn.CrossEntropyLoss()"
   ]
  },
  {
   "cell_type": "code",
   "execution_count": 32,
   "id": "f4519005-429b-4d5c-b8d7-fadb1b554a40",
   "metadata": {},
   "outputs": [
    {
     "data": {
      "application/vnd.jupyter.widget-view+json": {
       "model_id": "83a1cf2818024b10bc44ec151cbee459",
       "version_major": 2,
       "version_minor": 0
      },
      "text/plain": [
       "  0%|          | 0/235 [00:00<?, ?it/s]"
      ]
     },
     "metadata": {},
     "output_type": "display_data"
    },
    {
     "name": "stdout",
     "output_type": "stream",
     "text": [
      "Epoch 1/10, Loss: 0.4497\n"
     ]
    },
    {
     "data": {
      "application/vnd.jupyter.widget-view+json": {
       "model_id": "523bb1910e394e2fab12ec3c3a0c5522",
       "version_major": 2,
       "version_minor": 0
      },
      "text/plain": [
       "  0%|          | 0/235 [00:00<?, ?it/s]"
      ]
     },
     "metadata": {},
     "output_type": "display_data"
    },
    {
     "name": "stdout",
     "output_type": "stream",
     "text": [
      "Epoch 2/10, Loss: 0.1557\n"
     ]
    },
    {
     "data": {
      "application/vnd.jupyter.widget-view+json": {
       "model_id": "8f34fcc4d20d4c319f16cedea3f60a27",
       "version_major": 2,
       "version_minor": 0
      },
      "text/plain": [
       "  0%|          | 0/235 [00:00<?, ?it/s]"
      ]
     },
     "metadata": {},
     "output_type": "display_data"
    },
    {
     "name": "stdout",
     "output_type": "stream",
     "text": [
      "Epoch 3/10, Loss: 0.1157\n"
     ]
    },
    {
     "data": {
      "application/vnd.jupyter.widget-view+json": {
       "model_id": "0b249f1c0dff4fcba2743ac573cee666",
       "version_major": 2,
       "version_minor": 0
      },
      "text/plain": [
       "  0%|          | 0/235 [00:00<?, ?it/s]"
      ]
     },
     "metadata": {},
     "output_type": "display_data"
    },
    {
     "name": "stdout",
     "output_type": "stream",
     "text": [
      "Epoch 4/10, Loss: 0.0965\n"
     ]
    },
    {
     "data": {
      "application/vnd.jupyter.widget-view+json": {
       "model_id": "010c45816f56472b8e084d7073ef774c",
       "version_major": 2,
       "version_minor": 0
      },
      "text/plain": [
       "  0%|          | 0/235 [00:00<?, ?it/s]"
      ]
     },
     "metadata": {},
     "output_type": "display_data"
    },
    {
     "name": "stdout",
     "output_type": "stream",
     "text": [
      "Epoch 5/10, Loss: 0.0804\n"
     ]
    },
    {
     "data": {
      "application/vnd.jupyter.widget-view+json": {
       "model_id": "c5ab67965bf4454c8d17f650b2a289b2",
       "version_major": 2,
       "version_minor": 0
      },
      "text/plain": [
       "  0%|          | 0/235 [00:00<?, ?it/s]"
      ]
     },
     "metadata": {},
     "output_type": "display_data"
    },
    {
     "name": "stdout",
     "output_type": "stream",
     "text": [
      "Epoch 6/10, Loss: 0.0729\n"
     ]
    },
    {
     "data": {
      "application/vnd.jupyter.widget-view+json": {
       "model_id": "cbc464e4fb404ef2b1d33cbf670cc56b",
       "version_major": 2,
       "version_minor": 0
      },
      "text/plain": [
       "  0%|          | 0/235 [00:00<?, ?it/s]"
      ]
     },
     "metadata": {},
     "output_type": "display_data"
    },
    {
     "name": "stdout",
     "output_type": "stream",
     "text": [
      "Epoch 7/10, Loss: 0.0671\n"
     ]
    },
    {
     "data": {
      "application/vnd.jupyter.widget-view+json": {
       "model_id": "f984034f6d024594ae4c37f19278647f",
       "version_major": 2,
       "version_minor": 0
      },
      "text/plain": [
       "  0%|          | 0/235 [00:00<?, ?it/s]"
      ]
     },
     "metadata": {},
     "output_type": "display_data"
    },
    {
     "name": "stdout",
     "output_type": "stream",
     "text": [
      "Epoch 8/10, Loss: 0.0634\n"
     ]
    },
    {
     "data": {
      "application/vnd.jupyter.widget-view+json": {
       "model_id": "be7cd2bad77e4b1da053099553633592",
       "version_major": 2,
       "version_minor": 0
      },
      "text/plain": [
       "  0%|          | 0/235 [00:00<?, ?it/s]"
      ]
     },
     "metadata": {},
     "output_type": "display_data"
    },
    {
     "name": "stdout",
     "output_type": "stream",
     "text": [
      "Epoch 9/10, Loss: 0.0567\n"
     ]
    },
    {
     "data": {
      "application/vnd.jupyter.widget-view+json": {
       "model_id": "5559e85816894de9a518430b577515ab",
       "version_major": 2,
       "version_minor": 0
      },
      "text/plain": [
       "  0%|          | 0/235 [00:00<?, ?it/s]"
      ]
     },
     "metadata": {},
     "output_type": "display_data"
    },
    {
     "name": "stdout",
     "output_type": "stream",
     "text": [
      "Epoch 10/10, Loss: 0.0543\n"
     ]
    }
   ],
   "source": [
    "train_model(small_model, optimizer)"
   ]
  },
  {
   "cell_type": "code",
   "execution_count": 33,
   "id": "9cbf980b-3374-4ce0-8dbc-0c72324039cd",
   "metadata": {},
   "outputs": [
    {
     "data": {
      "application/vnd.jupyter.widget-view+json": {
       "model_id": "d2386de02d7640f7820708fcd88c755e",
       "version_major": 2,
       "version_minor": 0
      },
      "text/plain": [
       "  0%|          | 0/40 [00:00<?, ?it/s]"
      ]
     },
     "metadata": {},
     "output_type": "display_data"
    }
   ],
   "source": [
    "small_preds, small_labels = test_model(small_model)"
   ]
  },
  {
   "cell_type": "code",
   "execution_count": 36,
   "id": "d76d543b-c563-48cd-8528-121d90aa1ea1",
   "metadata": {},
   "outputs": [
    {
     "data": {
      "text/plain": [
       "tensor(0.9809)"
      ]
     },
     "execution_count": 36,
     "metadata": {},
     "output_type": "execute_result"
    }
   ],
   "source": [
    "(small_preds == small_labels).sum() / len(small_preds)"
   ]
  },
  {
   "cell_type": "code",
   "execution_count": 39,
   "id": "3395eac5-2b21-4c9e-a18d-530c85b3bea4",
   "metadata": {},
   "outputs": [
    {
     "data": {
      "text/plain": [
       "tensor(191)"
      ]
     },
     "execution_count": 39,
     "metadata": {},
     "output_type": "execute_result"
    }
   ],
   "source": [
    "(small_preds != small_labels).sum()"
   ]
  },
  {
   "cell_type": "code",
   "execution_count": 47,
   "id": "220db4e9-08fd-4648-be46-74bc233b215f",
   "metadata": {},
   "outputs": [
    {
     "data": {
      "text/plain": [
       "tensor(0.9679)"
      ]
     },
     "execution_count": 47,
     "metadata": {},
     "output_type": "execute_result"
    }
   ],
   "source": [
    "(large_preds == large_labels).sum() / len(large_preds)"
   ]
  },
  {
   "cell_type": "code",
   "execution_count": 48,
   "id": "ea462de0-e2e7-4b64-9b89-1358c2363c6e",
   "metadata": {},
   "outputs": [
    {
     "data": {
      "text/plain": [
       "tensor(321)"
      ]
     },
     "execution_count": 48,
     "metadata": {},
     "output_type": "execute_result"
    }
   ],
   "source": [
    "(large_preds != large_labels).sum()"
   ]
  }
 ],
 "metadata": {
  "kernelspec": {
   "display_name": "Python 3 (ipykernel)",
   "language": "python",
   "name": "python3"
  },
  "language_info": {
   "codemirror_mode": {
    "name": "ipython",
    "version": 3
   },
   "file_extension": ".py",
   "mimetype": "text/x-python",
   "name": "python",
   "nbconvert_exporter": "python",
   "pygments_lexer": "ipython3",
   "version": "3.12.3"
  }
 },
 "nbformat": 4,
 "nbformat_minor": 5
}
